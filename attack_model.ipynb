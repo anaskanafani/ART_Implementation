{
 "cells": [
  {
   "cell_type": "markdown",
   "metadata": {},
   "source": [
    "# Evasion Attack In Adversarial Robustness Toolbox (ART)"
   ]
  },
  {
   "cell_type": "markdown",
   "metadata": {},
   "source": [
    "## Importing Dependencies"
   ]
  },
  {
   "cell_type": "code",
   "execution_count": 1,
   "metadata": {},
   "outputs": [
    {
     "name": "stderr",
     "output_type": "stream",
     "text": [
      "c:\\Users\\USER\\miniconda3\\envs\\tf\\lib\\site-packages\\art\\estimators\\certification\\__init__.py:29: UserWarning: PyTorch not found. Not importing DeepZ or Interval Bound Propagation functionality\n",
      "  warnings.warn(\"PyTorch not found. Not importing DeepZ or Interval Bound Propagation functionality\")\n"
     ]
    }
   ],
   "source": [
    "import tensorflow as tf\n",
    "import numpy as np\n",
    "import matplotlib.pyplot as plt\n",
    "from keras import layers\n",
    "from art.estimators.classification import KerasClassifier\n",
    "from art.attacks.evasion import FastGradientMethod, BasicIterativeMethod, ProjectedGradientDescent\n",
    "from art.utils import load_dataset\n",
    "from art.defences.trainer import AdversarialTrainer\n",
    "import warnings\n",
    "warnings.filterwarnings(\"ignore\")\n",
    "\n",
    "tf.compat.v1.disable_eager_execution()"
   ]
  },
  {
   "cell_type": "markdown",
   "metadata": {},
   "source": [
    "## Enable GPU"
   ]
  },
  {
   "cell_type": "code",
   "execution_count": 2,
   "metadata": {},
   "outputs": [],
   "source": [
    "gpus = tf.config.experimental.list_physical_devices('GPU')"
   ]
  },
  {
   "cell_type": "code",
   "execution_count": 3,
   "metadata": {},
   "outputs": [],
   "source": [
    "if gpus:\n",
    "    try:\n",
    "        for gpu in gpus:\n",
    "            tf.config.experimental.set_memory_growth(gpu, True)\n",
    "    except RuntimeError as e:\n",
    "        print(e)"
   ]
  },
  {
   "cell_type": "markdown",
   "metadata": {},
   "source": [
    "## Load the data"
   ]
  },
  {
   "cell_type": "code",
   "execution_count": 4,
   "metadata": {},
   "outputs": [],
   "source": [
    "(train_images, train_labels), (test_images,\n",
    "                               test_labels), min_, max_ = load_dataset(name=\"mnist\")"
   ]
  },
  {
   "cell_type": "markdown",
   "metadata": {},
   "source": [
    "## Train the model"
   ]
  },
  {
   "cell_type": "code",
   "execution_count": 5,
   "metadata": {},
   "outputs": [],
   "source": [
    "# Function for creating model\n",
    "def make_model():\n",
    "    # Defining the model\n",
    "    model = tf.keras.models.Sequential([\n",
    "        layers.Conv2D(filters=32, kernel_size=3, activation=\"relu\", input_shape=(28, 28, 1)),\n",
    "        layers.MaxPooling2D(pool_size=2),\n",
    "        layers.Conv2D(filters=64, kernel_size=3, activation=\"relu\"),\n",
    "        layers.MaxPooling2D(pool_size=2),\n",
    "        layers.Flatten(),        \n",
    "        layers.Dense(1024 , activation=\"relu\"),\n",
    "        layers.Dense(10, activation=\"softmax\")\n",
    "    ])\n",
    "\n",
    "    # Compiling the model\n",
    "    model.compile(\n",
    "        optimizer=\"adam\",\n",
    "        loss=\"categorical_crossentropy\",\n",
    "        metrics=[\"accuracy\"]\n",
    "        )\n",
    "\n",
    "    # Returning the model\n",
    "    return model"
   ]
  },
  {
   "cell_type": "markdown",
   "metadata": {},
   "source": [
    "Wrapping our model with the ART KerasClassifier"
   ]
  },
  {
   "cell_type": "code",
   "execution_count": 6,
   "metadata": {},
   "outputs": [],
   "source": [
    "original_model = make_model()\n",
    "original_classifier = KerasClassifier(clip_values=(min_, max_), model=original_model, use_logits=False)"
   ]
  },
  {
   "cell_type": "code",
   "execution_count": 7,
   "metadata": {},
   "outputs": [],
   "source": [
    "original_classifier.fit( x=train_images, y=train_labels, nb_epochs=10, batch_size=128)"
   ]
  },
  {
   "cell_type": "code",
   "execution_count": 8,
   "metadata": {},
   "outputs": [
    {
     "name": "stdout",
     "output_type": "stream",
     "text": [
      "Model: \"sequential\"\n",
      "_________________________________________________________________\n",
      " Layer (type)                Output Shape              Param #   \n",
      "=================================================================\n",
      " conv2d (Conv2D)             (None, 26, 26, 32)        320       \n",
      "                                                                 \n",
      " max_pooling2d (MaxPooling2D  (None, 13, 13, 32)       0         \n",
      " )                                                               \n",
      "                                                                 \n",
      " conv2d_1 (Conv2D)           (None, 11, 11, 64)        18496     \n",
      "                                                                 \n",
      " max_pooling2d_1 (MaxPooling  (None, 5, 5, 64)         0         \n",
      " 2D)                                                             \n",
      "                                                                 \n",
      " flatten (Flatten)           (None, 1600)              0         \n",
      "                                                                 \n",
      " dense (Dense)               (None, 1024)              1639424   \n",
      "                                                                 \n",
      " dense_1 (Dense)             (None, 10)                10250     \n",
      "                                                                 \n",
      "=================================================================\n",
      "Total params: 1,668,490\n",
      "Trainable params: 1,668,490\n",
      "Non-trainable params: 0\n",
      "_________________________________________________________________\n"
     ]
    }
   ],
   "source": [
    "original_model.summary()"
   ]
  },
  {
   "cell_type": "markdown",
   "metadata": {},
   "source": [
    "## Save the model"
   ]
  },
  {
   "cell_type": "code",
   "execution_count": 9,
   "metadata": {},
   "outputs": [],
   "source": [
    "original_classifier.model.save(\"original_model.h5\")"
   ]
  },
  {
   "cell_type": "markdown",
   "metadata": {},
   "source": [
    "## Evaluate on original test data"
   ]
  },
  {
   "cell_type": "code",
   "execution_count": 10,
   "metadata": {},
   "outputs": [
    {
     "name": "stdout",
     "output_type": "stream",
     "text": [
      "Original test data:\n",
      "Correctly classified: 9920\n",
      "Incorrectly classified: 80\n",
      "Accuracy: 99.2%\n"
     ]
    }
   ],
   "source": [
    "test_images_pred = np.argmax(original_classifier.predict(test_images), axis=1)\n",
    "correct_pred_num = np.sum(test_images_pred == np.argmax(test_labels, axis=1))\n",
    "\n",
    "print(\"Original test data:\")\n",
    "print(\"Correctly classified: {}\".format(correct_pred_num))\n",
    "print(\"Incorrectly classified: {}\".format(len(test_images)-correct_pred_num))\n",
    "print(\"Accuracy: {}%\".format(correct_pred_num/len(test_images)*100))"
   ]
  },
  {
   "cell_type": "markdown",
   "metadata": {},
   "source": [
    "## Define the evasion attack"
   ]
  },
  {
   "cell_type": "markdown",
   "metadata": {},
   "source": [
    "Defining the attack"
   ]
  },
  {
   "cell_type": "code",
   "execution_count": 11,
   "metadata": {},
   "outputs": [],
   "source": [
    "attack = FastGradientMethod(\n",
    "    estimator=original_classifier, \n",
    "    eps=0.3\n",
    "    )"
   ]
  },
  {
   "cell_type": "markdown",
   "metadata": {},
   "source": [
    "Generate adversarial samples"
   ]
  },
  {
   "cell_type": "code",
   "execution_count": 12,
   "metadata": {},
   "outputs": [],
   "source": [
    "test_images_adv = attack.generate(x=test_images, y=test_labels)"
   ]
  },
  {
   "cell_type": "markdown",
   "metadata": {},
   "source": [
    "## Visualize the attack"
   ]
  },
  {
   "cell_type": "code",
   "execution_count": 13,
   "metadata": {},
   "outputs": [
    {
     "data": {
      "text/plain": [
       "(-0.5, 27.5, 27.5, -0.5)"
      ]
     },
     "execution_count": 13,
     "metadata": {},
     "output_type": "execute_result"
    },
    {
     "data": {
      "image/png": "[encoded data removed]",
      "text/plain": [
       "<Figure size 400x400 with 1 Axes>"
      ]
     },
     "metadata": {},
     "output_type": "display_data"
    }
   ],
   "source": [
    "plt.figure(figsize=(4, 4))\n",
    "plt.title(\"Test Image\")\n",
    "plt.imshow(test_images[0].squeeze())\n",
    "plt.axis(\"off\")"
   ]
  },
  {
   "cell_type": "code",
   "execution_count": 14,
   "metadata": {},
   "outputs": [
    {
     "data": {
      "text/plain": [
       "(-0.5, 27.5, 27.5, -0.5)"
      ]
     },
     "execution_count": 14,
     "metadata": {},
     "output_type": "execute_result"
    },
    {
     "data": {
      "image/png": "[encoded data removed]",
      "text/plain": [
       "<Figure size 400x400 with 1 Axes>"
      ]
     },
     "metadata": {},
     "output_type": "display_data"
    }
   ],
   "source": [
    "plt.figure(figsize=(4, 4))\n",
    "plt.title(\"Adversarial Image\")\n",
    "plt.imshow(test_images_adv[0].squeeze())\n",
    "plt.axis(\"off\")"
   ]
  },
  {
   "cell_type": "markdown",
   "metadata": {},
   "source": [
    "## Evaluate the attack"
   ]
  },
  {
   "cell_type": "code",
   "execution_count": 15,
   "metadata": {},
   "outputs": [],
   "source": [
    "score_clean = original_model.evaluate(test_images, test_labels)\n",
    "score_adv = original_model.evaluate(test_images_adv, test_labels)"
   ]
  },
  {
   "cell_type": "code",
   "execution_count": 16,
   "metadata": {},
   "outputs": [
    {
     "name": "stdout",
     "output_type": "stream",
     "text": [
      "Original model accuracy on original data: 99.19999837875366 %\n",
      "Original model accuracy on adversarial data: 27.730000019073486 %\n"
     ]
    }
   ],
   "source": [
    "print(\"Original model accuracy on original data:\", score_clean[1] * 100 , \"%\")\n",
    "print(\"Original model accuracy on adversarial data:\", score_adv[1] * 100 , \"%\")"
   ]
  },
  {
   "cell_type": "markdown",
   "metadata": {},
   "source": [
    "## Test the accuracy of the model with different attacks strengths"
   ]
  },
  {
   "cell_type": "code",
   "execution_count": 17,
   "metadata": {},
   "outputs": [
    {
     "data": {
      "image/png": "[encoded data removed]",
      "text/plain": [
       "<Figure size 2000x1000 with 10 Axes>"
      ]
     },
     "metadata": {},
     "output_type": "display_data"
    }
   ],
   "source": [
    "nrows, ncols = 2, 5\n",
    "\n",
    "fig, axes = plt.subplots(\n",
    "    nrows=nrows,\n",
    "    ncols=ncols,\n",
    "    figsize=(20, 10)\n",
    ")\n",
    "\n",
    "# Defining a range of eps values to try\n",
    "eps_to_try = [0.01, 0.05, 0.075, 0.1, 0.125, 0.15, 0.2, 0.25, 0.3, 0.5]\n",
    "\n",
    "# Defining a counting variable to traverse eps_to_try\n",
    "counter = 0\n",
    "\n",
    "for i in range(nrows):\n",
    "    for j in range(ncols):\n",
    "        # Creating an attack object for the current value of eps\n",
    "        attack = FastGradientMethod(\n",
    "            estimator=original_classifier,\n",
    "            eps=eps_to_try[counter]\n",
    "        )\n",
    "\n",
    "        # Generating adversarial images\n",
    "        test_images_adv = attack.generate(x=test_images)\n",
    "\n",
    "        # Showing the first adversarial image\n",
    "        axes[i, j].imshow(X=test_images_adv[0].squeeze())\n",
    "\n",
    "        # Removing axes\n",
    "        axes[i, j].set_xticks(ticks=[])\n",
    "        axes[i, j].set_yticks(ticks=[])\n",
    "\n",
    "        # Evaluating model performance on adversarial samples and get the test accuracy\n",
    "        test_score = original_classifier._model.evaluate(\n",
    "            x=test_images_adv,\n",
    "            y=test_labels,\n",
    "        )[1]\n",
    "\n",
    "        # Getting prediction label for the image that we displayed\n",
    "        prediction = np.argmax(original_model.predict(\n",
    "            x=np.expand_dims(a=test_images_adv[0],\n",
    "                             axis=0)\n",
    "        ))\n",
    "\n",
    "        # Showing the current eps value, test accuracy, and prediction\n",
    "        axes[i, j].set_title(\n",
    "            label=f\"Eps value: {eps_to_try[counter]}\\n\"\n",
    "            f\"Test accuracy: {test_score * 100:.2f}%\\n\"\n",
    "            f\"Prediction: {prediction}\"\n",
    "        )\n",
    "\n",
    "        counter += 1\n",
    "\n",
    "plt.show()"
   ]
  },
  {
   "cell_type": "markdown",
   "metadata": {},
   "source": [
    "---"
   ]
  },
  {
   "cell_type": "markdown",
   "metadata": {},
   "source": [
    "# Evasion Defense In Adversarial Robustness Toolbox (ART)"
   ]
  },
  {
   "cell_type": "markdown",
   "metadata": {},
   "source": [
    "### Save the classifier and model with new names to compare at the end"
   ]
  },
  {
   "cell_type": "code",
   "execution_count": 18,
   "metadata": {},
   "outputs": [],
   "source": [
    "robust_model = make_model()\n",
    "robust_classifier = KerasClassifier(clip_values=(min_, max_), model=robust_model, use_logits=False)"
   ]
  },
  {
   "cell_type": "code",
   "execution_count": 19,
   "metadata": {},
   "outputs": [
    {
     "name": "stdout",
     "output_type": "stream",
     "text": [
      "Model: \"sequential_1\"\n",
      "_________________________________________________________________\n",
      " Layer (type)                Output Shape              Param #   \n",
      "=================================================================\n",
      " conv2d_2 (Conv2D)           (None, 26, 26, 32)        320       \n",
      "                                                                 \n",
      " max_pooling2d_2 (MaxPooling  (None, 13, 13, 32)       0         \n",
      " 2D)                                                             \n",
      "                                                                 \n",
      " conv2d_3 (Conv2D)           (None, 11, 11, 64)        18496     \n",
      "                                                                 \n",
      " max_pooling2d_3 (MaxPooling  (None, 5, 5, 64)         0         \n",
      " 2D)                                                             \n",
      "                                                                 \n",
      " flatten_1 (Flatten)         (None, 1600)              0         \n",
      "                                                                 \n",
      " dense_2 (Dense)             (None, 1024)              1639424   \n",
      "                                                                 \n",
      " dense_3 (Dense)             (None, 10)                10250     \n",
      "                                                                 \n",
      "=================================================================\n",
      "Total params: 1,668,490\n",
      "Trainable params: 1,668,490\n",
      "Non-trainable params: 0\n",
      "_________________________________________________________________\n"
     ]
    }
   ],
   "source": [
    "robust_model.summary()"
   ]
  },
  {
   "cell_type": "markdown",
   "metadata": {},
   "source": [
    "## Train the model with ART on expected attacks"
   ]
  },
  {
   "cell_type": "code",
   "execution_count": 20,
   "metadata": {},
   "outputs": [],
   "source": [
    "expected_attacks = BasicIterativeMethod(robust_classifier, eps=0.3, eps_step=0.1, max_iter=40)"
   ]
  },
  {
   "cell_type": "code",
   "execution_count": 21,
   "metadata": {},
   "outputs": [
    {
     "data": {
      "application/vnd.jupyter.widget-view+json": {
       "model_id": "51f2f76ae7674cb8adb6608cea6adcef",
       "version_major": 2,
       "version_minor": 0
      },
      "text/plain": [
       "Precompute adv samples:   0%|          | 0/1 [00:00<?, ?it/s]"
      ]
     },
     "metadata": {},
     "output_type": "display_data"
    },
    {
     "data": {
      "application/vnd.jupyter.widget-view+json": {
       "model_id": "9dbbf453446d49fb97c7646c5c8e5cd9",
       "version_major": 2,
       "version_minor": 0
      },
      "text/plain": [
       "Adversarial training epochs:   0%|          | 0/10 [00:00<?, ?it/s]"
      ]
     },
     "metadata": {},
     "output_type": "display_data"
    }
   ],
   "source": [
    "trainer = AdversarialTrainer(robust_classifier, expected_attacks, ratio=1.0)\n",
    "trainer.fit(train_images, train_labels, batch_size=128, nb_epochs=10)\n",
    "robust_classifier = trainer.classifier"
   ]
  },
  {
   "cell_type": "markdown",
   "metadata": {},
   "source": [
    "## Save the robust model"
   ]
  },
  {
   "cell_type": "code",
   "execution_count": 30,
   "metadata": {},
   "outputs": [],
   "source": [
    "robust_classifier.model.save('robust_classifier.h5')"
   ]
  },
  {
   "cell_type": "markdown",
   "metadata": {},
   "source": [
    "## Evaluate the robust model "
   ]
  },
  {
   "cell_type": "markdown",
   "metadata": {},
   "source": [
    "with the normal test data"
   ]
  },
  {
   "cell_type": "code",
   "execution_count": 23,
   "metadata": {},
   "outputs": [
    {
     "name": "stdout",
     "output_type": "stream",
     "text": [
      "Original test data:\n",
      "Correctly classified original test examples: 9920\n",
      "Incorrectly classified original test examples: 80\n",
      "Accuracy on original test examples: 99.2%\n"
     ]
    }
   ],
   "source": [
    "test_images_pred_robust = np.argmax(original_classifier.predict(test_images), axis=1)\n",
    "correct_pred_robust_num = np.sum(test_images_pred_robust == np.argmax(test_labels, axis=1))\n",
    "\n",
    "print(\"Original test data:\")\n",
    "print('Correctly classified original test examples: {}'.format(correct_pred_robust_num))\n",
    "print('Incorrectly classified original test examples: {}'.format(len(test_images) - correct_pred_robust_num))\n",
    "print('Accuracy on original test examples: {}%'.format(correct_pred_robust_num / len(test_images) * 100))"
   ]
  },
  {
   "cell_type": "markdown",
   "metadata": {},
   "source": [
    "with the adversarial test data and a strong attack `0.5`"
   ]
  },
  {
   "cell_type": "code",
   "execution_count": 24,
   "metadata": {},
   "outputs": [],
   "source": [
    "attack = FastGradientMethod(robust_classifier, eps=0.5)\n",
    "test_images_adv = attack.generate(test_images)"
   ]
  },
  {
   "cell_type": "code",
   "execution_count": 25,
   "metadata": {},
   "outputs": [
    {
     "name": "stdout",
     "output_type": "stream",
     "text": [
      "Adversarial test data:\n",
      "Correctly classified adversarial test examples: 6956\n",
      "Incorrectly classified adversarial test examples: 3044\n",
      "Accuracy on adversarial test examples: 69.56%\n"
     ]
    }
   ],
   "source": [
    "test_images_adv_pred_robust = np.argmax(robust_classifier.predict(test_images_adv), axis=1)\n",
    "correct_pred_adv_robust = np.sum(test_images_adv_pred_robust == np.argmax(test_labels, axis=1))\n",
    "\n",
    "print(\"Adversarial test data:\")\n",
    "print('Correctly classified adversarial test examples: {}'.format(correct_pred_adv_robust))\n",
    "print('Incorrectly classified adversarial test examples: {}'.format(len(test_images) - correct_pred_adv_robust))\n",
    "print('Accuracy on adversarial test examples: {}%'.format(correct_pred_adv_robust / len(test_images) * 100))"
   ]
  },
  {
   "cell_type": "code",
   "execution_count": 26,
   "metadata": {},
   "outputs": [],
   "source": [
    "attacker_pgd = ProjectedGradientDescent(estimator=original_classifier, eps=0.5, eps_step=0.01, max_iter=200, verbose=False)\n",
    "attacker_robust_pgd = ProjectedGradientDescent(estimator=robust_classifier, eps=0.5, eps_step=0.01, max_iter=200, verbose=False)"
   ]
  },
  {
   "cell_type": "code",
   "execution_count": 27,
   "metadata": {},
   "outputs": [],
   "source": [
    "eps_range = [0.01, 0.02, 0.03, 0.04, 0.05, 0.1, 0.2, 0.3, 0.4, 0.5, 0.6]\n",
    "nb_correct_original = []\n",
    "nb_correct_robust = []\n",
    "\n",
    "nb_samples = 100\n",
    "\n",
    "for eps in eps_range:\n",
    "    attacker_pgd.set_params(**{'eps': eps})\n",
    "    attacker_robust_pgd.set_params(**{'eps': eps})\n",
    "    test_images_adv = attacker_pgd.generate(test_images[:nb_samples], test_labels[:nb_samples])\n",
    "    test_images_adv_robust = attacker_robust_pgd.generate(test_images[:nb_samples], test_labels[:nb_samples])\n",
    "    \n",
    "    test_images_adv_pred = np.argmax(original_classifier.predict(test_images_adv), axis=1)\n",
    "    nb_correct_original += [np.sum(test_images_adv_pred == np.argmax(test_labels[:nb_samples], axis=1)) / nb_samples]\n",
    "    \n",
    "    test_images_adv_robust_pred = np.argmax(robust_classifier.predict(test_images_adv_robust), axis=1)\n",
    "    nb_correct_robust += [np.sum(test_images_adv_robust_pred == np.argmax(test_labels[:nb_samples], axis=1)) / nb_samples]\n",
    "\n",
    "eps_range = [0] + eps_range\n",
    "nb_correct_original = [correct_pred_num / 10000] + nb_correct_original\n",
    "nb_correct_robust = [correct_pred_robust_num / 10000] + nb_correct_robust"
   ]
  },
  {
   "cell_type": "code",
   "execution_count": 28,
   "metadata": {},
   "outputs": [
    {
     "data": {
      "image/png": "[encoded data removed]",
      "text/plain": [
       "<Figure size 640x480 with 1 Axes>"
      ]
     },
     "metadata": {},
     "output_type": "display_data"
    }
   ],
   "source": [
    "fig, ax = plt.subplots()\n",
    "ax.plot(np.array(eps_range), np.array(nb_correct_original), 'b--', label='Original classifier')\n",
    "ax.plot(np.array(eps_range), np.array(nb_correct_robust), 'r--', label='Robust classifier')\n",
    "\n",
    "legend = ax.legend(loc='upper right', shadow=True, fontsize='large')\n",
    "\n",
    "plt.xlabel('Peturbation size (eps, L-Inf)')\n",
    "plt.ylabel('Classification Accuracy')\n",
    "plt.show()"
   ]
  }
 ],
 "metadata": {
  "kernelspec": {
   "display_name": "tf",
   "language": "python",
   "name": "python3"
  },
  "language_info": {
   "codemirror_mode": {
    "name": "ipython",
    "version": 3
   },
   "file_extension": ".py",
   "mimetype": "text/x-python",
   "name": "python",
   "nbconvert_exporter": "python",
   "pygments_lexer": "ipython3",
   "version": "3.9.19"
  }
 },
 "nbformat": 4,
 "nbformat_minor": 2
}
